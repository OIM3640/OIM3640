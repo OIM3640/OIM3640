{
 "cells": [
  {
   "cell_type": "code",
   "execution_count": 1,
   "id": "0795af8c",
   "metadata": {},
   "outputs": [],
   "source": [
    "abs(-3.5)"
   ]
  },
  {
   "cell_type": "code",
   "execution_count": 2,
   "id": "25bcbee9",
   "metadata": {},
   "outputs": [],
   "source": [
    "type(42) "
   ]
  },
  {
   "cell_type": "code",
   "execution_count": 3,
   "id": "072d1847",
   "metadata": {},
   "outputs": [],
   "source": [
    "type(42.0) "
   ]
  },
  {
   "cell_type": "code",
   "execution_count": 4,
   "id": "a5844cbd",
   "metadata": {},
   "outputs": [],
   "source": [
    "type('42') "
   ]
  },
  {
   "cell_type": "code",
   "execution_count": 5,
   "id": "ebd5997a",
   "metadata": {},
   "outputs": [],
   "source": [
    "type(print) "
   ]
  },
  {
   "cell_type": "code",
   "execution_count": 6,
   "id": "1adf9fcd",
   "metadata": {},
   "outputs": [],
   "source": [
    "print('hi')"
   ]
  },
  {
   "cell_type": "code",
   "execution_count": 7,
   "id": "dd8fce34",
   "metadata": {},
   "outputs": [],
   "source": [
    "round(3.4)"
   ]
  },
  {
   "cell_type": "code",
   "execution_count": 8,
   "id": "e207a8d3",
   "metadata": {},
   "outputs": [],
   "source": [
    "len(42)"
   ]
  },
  {
   "cell_type": "code",
   "execution_count": 9,
   "id": "46679ee4",
   "metadata": {},
   "outputs": [],
   "source": [
    "len('42') "
   ]
  },
  {
   "cell_type": "code",
   "execution_count": 10,
   "id": "d96e1163",
   "metadata": {},
   "outputs": [],
   "source": [
    "len('42 ') "
   ]
  },
  {
   "cell_type": "code",
   "execution_count": 11,
   "id": "45811839",
   "metadata": {},
   "outputs": [],
   "source": [
    "t = 100_000"
   ]
  },
  {
   "cell_type": "code",
   "execution_count": 12,
   "id": "78aa6f1a",
   "metadata": {},
   "outputs": [],
   "source": [
    "t = 100,000"
   ]
  },
  {
   "cell_type": "code",
   "execution_count": 13,
   "id": "85a522e7",
   "metadata": {},
   "outputs": [],
   "source": [
    "t"
   ]
  },
  {
   "cell_type": "code",
   "execution_count": 14,
   "id": "3b6445cf",
   "metadata": {},
   "outputs": [],
   "source": [
    "type(t)"
   ]
  },
  {
   "cell_type": "code",
   "execution_count": 15,
   "id": "e863a4e3",
   "metadata": {},
   "outputs": [],
   "source": [
    "len(t)"
   ]
  },
  {
   "cell_type": "code",
   "execution_count": 16,
   "id": "2e3b4a7f",
   "metadata": {},
   "outputs": [],
   "source": [
    "names = ['Tauria', 'Tarynea', 'Tamanna']"
   ]
  },
  {
   "cell_type": "code",
   "execution_count": 17,
   "id": "32140f2b",
   "metadata": {},
   "outputs": [],
   "source": [
    "type(names)"
   ]
  },
  {
   "cell_type": "code",
   "execution_count": 18,
   "id": "37fb05b0",
   "metadata": {},
   "outputs": [],
   "source": [
    "len(names) "
   ]
  },
  {
   "cell_type": "code",
   "execution_count": 19,
   "id": "00da004c",
   "metadata": {},
   "outputs": [],
   "source": [
    "import math"
   ]
  },
  {
   "cell_type": "code",
   "execution_count": 20,
   "id": "58c75315",
   "metadata": {},
   "outputs": [],
   "source": [
    "math.pow(3, 2)"
   ]
  },
  {
   "cell_type": "code",
   "execution_count": 21,
   "id": "870736d5",
   "metadata": {},
   "outputs": [],
   "source": [
    "type(math.pow) "
   ]
  },
  {
   "cell_type": "code",
   "execution_count": 22,
   "id": "6dcb5791",
   "metadata": {},
   "outputs": [],
   "source": [
    "type(math)"
   ]
  },
  {
   "cell_type": "code",
   "execution_count": 23,
   "id": "74e9580c",
   "metadata": {},
   "outputs": [],
   "source": [
    "file = 'betrand.doc'"
   ]
  },
  {
   "cell_type": "code",
   "execution_count": 24,
   "id": "e01eaaf7",
   "metadata": {},
   "outputs": [],
   "source": [
    "len(file)"
   ]
  },
  {
   "cell_type": "code",
   "execution_count": 25,
   "id": "86c5b4be",
   "metadata": {},
   "outputs": [],
   "source": [
    "x = 123"
   ]
  },
  {
   "cell_type": "code",
   "execution_count": 26,
   "id": "f06c20be",
   "metadata": {},
   "outputs": [],
   "source": [
    "y = x"
   ]
  },
  {
   "cell_type": "code",
   "execution_count": 27,
   "id": "76db67aa",
   "metadata": {},
   "outputs": [],
   "source": [
    "x = 'abc'"
   ]
  },
  {
   "cell_type": "code",
   "execution_count": 28,
   "id": "1ce5a09f",
   "metadata": {},
   "outputs": [],
   "source": [
    "x"
   ]
  },
  {
   "cell_type": "code",
   "execution_count": 29,
   "id": "63a3b0fc",
   "metadata": {},
   "outputs": [],
   "source": [
    "y"
   ]
  },
  {
   "cell_type": "code",
   "execution_count": 30,
   "id": "0f09a5ed",
   "metadata": {},
   "outputs": [],
   "source": [
    "n = 42"
   ]
  },
  {
   "cell_type": "code",
   "execution_count": 31,
   "id": "54d618e0",
   "metadata": {},
   "outputs": [],
   "source": [
    "42 = n"
   ]
  },
  {
   "cell_type": "code",
   "execution_count": 32,
   "id": "b4c989dd",
   "metadata": {},
   "outputs": [],
   "source": [
    "fortytwo = n"
   ]
  },
  {
   "cell_type": "code",
   "execution_count": 33,
   "id": "b2312079",
   "metadata": {},
   "outputs": [],
   "source": [
    "fortytwo"
   ]
  },
  {
   "cell_type": "code",
   "execution_count": 34,
   "id": "78326670",
   "metadata": {},
   "outputs": [],
   "source": [
    "_42 = n"
   ]
  },
  {
   "cell_type": "code",
   "execution_count": 35,
   "id": "3981efb1",
   "metadata": {},
   "outputs": [],
   "source": [
    "_42"
   ]
  },
  {
   "cell_type": "code",
   "execution_count": 36,
   "id": "7a11c350",
   "metadata": {},
   "outputs": [],
   "source": [
    "t"
   ]
  },
  {
   "cell_type": "code",
   "execution_count": 37,
   "id": "bb0163a6",
   "metadata": {},
   "outputs": [],
   "source": [
    "_, second = t"
   ]
  },
  {
   "cell_type": "code",
   "execution_count": 38,
   "id": "5b500cd5",
   "metadata": {},
   "outputs": [],
   "source": [
    "second"
   ]
  },
  {
   "cell_type": "code",
   "execution_count": 39,
   "id": "32d445cf",
   "metadata": {},
   "outputs": [],
   "source": [
    "42 * 10"
   ]
  },
  {
   "cell_type": "code",
   "execution_count": 40,
   "id": "d26f38d3",
   "metadata": {},
   "outputs": [],
   "source": [
    "_"
   ]
  },
  {
   "cell_type": "code",
   "execution_count": 41,
   "id": "1a53856b",
   "metadata": {},
   "outputs": [],
   "source": [
    "t"
   ]
  },
  {
   "cell_type": "code",
   "execution_count": 42,
   "id": "87e6b135",
   "metadata": {},
   "outputs": [],
   "source": [
    "x = y = 1"
   ]
  },
  {
   "cell_type": "code",
   "execution_count": 43,
   "id": "59d78720",
   "metadata": {},
   "outputs": [],
   "source": [
    "x"
   ]
  },
  {
   "cell_type": "code",
   "execution_count": 44,
   "id": "fdb4e799",
   "metadata": {},
   "outputs": [],
   "source": [
    "y"
   ]
  },
  {
   "cell_type": "code",
   "execution_count": 45,
   "id": "0875eb4e",
   "metadata": {},
   "outputs": [],
   "source": [
    "x = 5"
   ]
  },
  {
   "cell_type": "code",
   "execution_count": 46,
   "id": "d83a3901",
   "metadata": {},
   "outputs": [],
   "source": [
    "y = 2"
   ]
  },
  {
   "cell_type": "code",
   "execution_count": 47,
   "id": "001f4b2a",
   "metadata": {},
   "outputs": [],
   "source": [
    "xy"
   ]
  },
  {
   "cell_type": "code",
   "execution_count": 48,
   "id": "61351214",
   "metadata": {},
   "outputs": [],
   "source": [
    "xy = x * y"
   ]
  },
  {
   "cell_type": "code",
   "execution_count": 49,
   "id": "d644dd2c",
   "metadata": {},
   "outputs": [],
   "source": [
    "xy"
   ]
  },
  {
   "cell_type": "code",
   "execution_count": 50,
   "id": "702c99b4",
   "metadata": {},
   "outputs": [],
   "source": [
    "for i in range(4):\n",
    "    print('spam')\n",
    "    "
   ]
  },
  {
   "cell_type": "code",
   "execution_count": 51,
   "id": "0d819454",
   "metadata": {},
   "outputs": [],
   "source": [
    "for i in range(4):\n",
    "    print(i) \n",
    "    "
   ]
  },
  {
   "cell_type": "code",
   "execution_count": 52,
   "id": "14458df6",
   "metadata": {},
   "outputs": [],
   "source": [
    "for i in range(4):\n",
    "    print(i+1)\n",
    "    "
   ]
  },
  {
   "cell_type": "code",
   "execution_count": 53,
   "id": "1d832a5a",
   "metadata": {},
   "outputs": [],
   "source": [
    "for i in range(2, 5):\n",
    "    print(i)\n",
    "    "
   ]
  },
  {
   "cell_type": "code",
   "execution_count": 54,
   "id": "5294140a",
   "metadata": {},
   "outputs": [],
   "source": [
    "for i in range(4):\n",
    "    print('🧱')\n",
    "    "
   ]
  },
  {
   "cell_type": "code",
   "execution_count": 55,
   "id": "668c3b0d",
   "metadata": {},
   "outputs": [],
   "source": [
    "for i in range(4):\n",
    "    print('🧱'*5)\n",
    "    "
   ]
  },
  {
   "cell_type": "code",
   "execution_count": 56,
   "id": "5a696334",
   "metadata": {},
   "outputs": [],
   "source": [
    "for i in range(4):\n",
    "    print(i + 1)\n",
    "     "
   ]
  },
  {
   "cell_type": "code",
   "execution_count": 57,
   "id": "d511aae7",
   "metadata": {},
   "outputs": [],
   "source": [
    "for i in range(4):\n",
    "    print('🧱' * (i + 1)) \n",
    "    "
   ]
  }
 ],
 "metadata": {},
 "nbformat": 4,
 "nbformat_minor": 5
}
