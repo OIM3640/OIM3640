{
 "cells": [
  {
   "cell_type": "code",
   "execution_count": 1,
   "id": "dec62d69-ac9e-4c55-901f-0ba8c78022fc",
   "metadata": {},
   "outputs": [],
   "source": [
    "def f(parameters):\n",
    "    \"\"\" docstring \"\"\"\n",
    "    pass"
   ]
  },
  {
   "cell_type": "code",
   "execution_count": 2,
   "id": "da78723e-c63b-490c-84cb-2d85cc3a0f68",
   "metadata": {},
   "outputs": [],
   "source": [
    "def print_double(number):\n",
    "    \"\"\" Print the double of the number \n",
    "    \n",
    "    number: int\n",
    "    \"\"\"\n",
    "    result = number * 2\n",
    "    print(result)"
   ]
  },
  {
   "cell_type": "code",
   "execution_count": 5,
   "id": "30206587-0ab8-4e7d-82c1-5101c3c3ed83",
   "metadata": {},
   "outputs": [
    {
     "name": "stdout",
     "output_type": "stream",
     "text": [
      "Print the double of the number \n",
      "\n",
      "number: int\n",
      "\n"
     ]
    }
   ],
   "source": [
    "print(print_double.__doc__)"
   ]
  },
  {
   "cell_type": "code",
   "execution_count": 6,
   "id": "6fee3a83-52d0-4b80-af73-7b8ed89e7116",
   "metadata": {},
   "outputs": [
    {
     "data": {
      "text/plain": [
       "\u001b[1;31mSignature:\u001b[0m \u001b[0mprint_double\u001b[0m\u001b[1;33m(\u001b[0m\u001b[0mnumber\u001b[0m\u001b[1;33m)\u001b[0m\u001b[1;33m\u001b[0m\u001b[1;33m\u001b[0m\u001b[0m\n",
       "\u001b[1;31mDocstring:\u001b[0m\n",
       "Print the double of the number \n",
       "\n",
       "number: int\n",
       "\u001b[1;31mFile:\u001b[0m      c:\\users\\zli\\appdata\\local\\temp\\ipykernel_35128\\3841898930.py\n",
       "\u001b[1;31mType:\u001b[0m      function"
      ]
     },
     "metadata": {},
     "output_type": "display_data"
    }
   ],
   "source": [
    "?print_double"
   ]
  },
  {
   "cell_type": "code",
   "execution_count": 7,
   "id": "c4b02e2b-d409-427c-a606-dd11070ef52f",
   "metadata": {},
   "outputs": [
    {
     "name": "stdout",
     "output_type": "stream",
     "text": [
      "0\n",
      "1\n",
      "2\n",
      "3\n",
      "4\n"
     ]
    }
   ],
   "source": [
    "for i in range(5):\n",
    "    print(i)"
   ]
  },
  {
   "cell_type": "code",
   "execution_count": null,
   "id": "baa83c96-2a5d-4bfd-a2ce-89d60a74ad26",
   "metadata": {},
   "outputs": [],
   "source": []
  }
 ],
 "metadata": {
  "kernelspec": {
   "display_name": "Python [conda env:base] *",
   "language": "python",
   "name": "conda-base-py"
  },
  "language_info": {
   "codemirror_mode": {
    "name": "ipython",
    "version": 3
   },
   "file_extension": ".py",
   "mimetype": "text/x-python",
   "name": "python",
   "nbconvert_exporter": "python",
   "pygments_lexer": "ipython3",
   "version": "3.13.5"
  }
 },
 "nbformat": 4,
 "nbformat_minor": 5
}
