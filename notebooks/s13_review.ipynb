{
 "cells": [
  {
   "cell_type": "code",
   "execution_count": 17,
   "id": "8edd39e3-e928-48c9-a5e6-b12ee0baa08d",
   "metadata": {},
   "outputs": [],
   "source": [
    "stocks = 'AAPL,MSFT,GOOG,AMZN'"
   ]
  },
  {
   "cell_type": "code",
   "execution_count": 18,
   "id": "43628c92-b79c-4167-9235-92a19944d4d6",
   "metadata": {},
   "outputs": [
    {
     "data": {
      "text/plain": [
       "'A'"
      ]
     },
     "execution_count": 18,
     "metadata": {},
     "output_type": "execute_result"
    }
   ],
   "source": [
    "stocks[0]"
   ]
  },
  {
   "cell_type": "code",
   "execution_count": 19,
   "id": "d55d25fc-32e2-400c-a81c-a93870f9b6f7",
   "metadata": {},
   "outputs": [
    {
     "data": {
      "text/plain": [
       "'N'"
      ]
     },
     "execution_count": 19,
     "metadata": {},
     "output_type": "execute_result"
    }
   ],
   "source": [
    "stocks[-1]"
   ]
  },
  {
   "cell_type": "code",
   "execution_count": 20,
   "id": "570ca14a-1ffe-4581-94d7-f8f8408393e3",
   "metadata": {},
   "outputs": [
    {
     "data": {
      "text/plain": [
       "1571972471728"
      ]
     },
     "execution_count": 20,
     "metadata": {},
     "output_type": "execute_result"
    }
   ],
   "source": [
    "id(stocks)"
   ]
  },
  {
   "cell_type": "code",
   "execution_count": 21,
   "id": "c1162d10-bf14-43a0-aedb-0cdfd02a9224",
   "metadata": {},
   "outputs": [],
   "source": [
    "stocks = stocks + ',TSLA'"
   ]
  },
  {
   "cell_type": "code",
   "execution_count": 22,
   "id": "5a1b21ad-e438-48da-bad9-7f42c2663e94",
   "metadata": {},
   "outputs": [
    {
     "data": {
      "text/plain": [
       "'AAPL,MSFT,GOOG,AMZN,TSLA'"
      ]
     },
     "execution_count": 22,
     "metadata": {},
     "output_type": "execute_result"
    }
   ],
   "source": [
    "stocks"
   ]
  },
  {
   "cell_type": "code",
   "execution_count": 23,
   "id": "c0be7ce8-2b91-4673-939f-1be6dfa0cb27",
   "metadata": {},
   "outputs": [
    {
     "data": {
      "text/plain": [
       "1571972054544"
      ]
     },
     "execution_count": 23,
     "metadata": {},
     "output_type": "execute_result"
    }
   ],
   "source": [
    "id(stocks)"
   ]
  },
  {
   "cell_type": "code",
   "execution_count": 24,
   "id": "56ea4e54-a1c8-43bd-b079-1f6272be4e89",
   "metadata": {},
   "outputs": [
    {
     "data": {
      "text/plain": [
       "'AAPL,MSFT,GOOG,AMZN,TSLA'"
      ]
     },
     "execution_count": 24,
     "metadata": {},
     "output_type": "execute_result"
    }
   ],
   "source": [
    "stocks"
   ]
  },
  {
   "cell_type": "code",
   "execution_count": 25,
   "id": "f40d89b6-6bdc-4abe-be78-1988c2995531",
   "metadata": {},
   "outputs": [
    {
     "data": {
      "text/plain": [
       "True"
      ]
     },
     "execution_count": 25,
     "metadata": {},
     "output_type": "execute_result"
    }
   ],
   "source": [
    "'GOOG' in stocks"
   ]
  },
  {
   "cell_type": "code",
   "execution_count": 26,
   "id": "d4ed697f-34cb-4aaa-a931-19c6de0c9e47",
   "metadata": {},
   "outputs": [
    {
     "data": {
      "text/plain": [
       "True"
      ]
     },
     "execution_count": 26,
     "metadata": {},
     "output_type": "execute_result"
    }
   ],
   "source": [
    "'AA' in stocks"
   ]
  },
  {
   "cell_type": "code",
   "execution_count": 27,
   "id": "f5de92c9-f18c-4e23-b244-5c3a46c331c0",
   "metadata": {},
   "outputs": [
    {
     "data": {
      "text/plain": [
       "'aapl,msft,goog,amzn,tsla'"
      ]
     },
     "execution_count": 27,
     "metadata": {},
     "output_type": "execute_result"
    }
   ],
   "source": [
    "stocks.lower()"
   ]
  },
  {
   "cell_type": "code",
   "execution_count": 28,
   "id": "5490e7be-a654-4286-ab16-a4bd0b52130e",
   "metadata": {},
   "outputs": [
    {
     "data": {
      "text/plain": [
       "'AAPL,MSFT,GOOG,AMZN,TSLA'"
      ]
     },
     "execution_count": 28,
     "metadata": {},
     "output_type": "execute_result"
    }
   ],
   "source": [
    "stocks.upper()"
   ]
  },
  {
   "cell_type": "code",
   "execution_count": 29,
   "id": "26b8565f-a5d3-4527-a85f-9a0a732ef8b3",
   "metadata": {},
   "outputs": [
    {
     "data": {
      "text/plain": [
       "False"
      ]
     },
     "execution_count": 29,
     "metadata": {},
     "output_type": "execute_result"
    }
   ],
   "source": [
    "'X' in stocks"
   ]
  },
  {
   "cell_type": "code",
   "execution_count": 30,
   "id": "3911db2d-58fa-41c1-a4a8-ddec10115159",
   "metadata": {},
   "outputs": [
    {
     "data": {
      "text/plain": [
       "False"
      ]
     },
     "execution_count": 30,
     "metadata": {},
     "output_type": "execute_result"
    }
   ],
   "source": [
    "'AAPM' in stocks"
   ]
  },
  {
   "cell_type": "code",
   "execution_count": 31,
   "id": "1d2984ea-8df3-4d9e-8af2-5d787b7498e3",
   "metadata": {},
   "outputs": [
    {
     "data": {
      "text/plain": [
       "0"
      ]
     },
     "execution_count": 31,
     "metadata": {},
     "output_type": "execute_result"
    }
   ],
   "source": [
    "stocks.find('A')"
   ]
  },
  {
   "cell_type": "code",
   "execution_count": 32,
   "id": "c1482d0a-951d-44f0-bacc-9e4dec42d1fc",
   "metadata": {},
   "outputs": [
    {
     "data": {
      "text/plain": [
       "15"
      ]
     },
     "execution_count": 32,
     "metadata": {},
     "output_type": "execute_result"
    }
   ],
   "source": [
    "stocks.find('A', 3)"
   ]
  },
  {
   "cell_type": "code",
   "execution_count": 33,
   "id": "50c446ff-2938-4e22-a6f2-b86dc95020b3",
   "metadata": {},
   "outputs": [
    {
     "data": {
      "text/plain": [
       "0"
      ]
     },
     "execution_count": 33,
     "metadata": {},
     "output_type": "execute_result"
    }
   ],
   "source": [
    "stocks.index('A')"
   ]
  },
  {
   "cell_type": "code",
   "execution_count": 34,
   "id": "20cc50ad-5995-4f8e-89ee-6a21f6cb3ff9",
   "metadata": {},
   "outputs": [
    {
     "data": {
      "text/plain": [
       "-1"
      ]
     },
     "execution_count": 34,
     "metadata": {},
     "output_type": "execute_result"
    }
   ],
   "source": [
    "stocks.find('B')"
   ]
  },
  {
   "cell_type": "code",
   "execution_count": 35,
   "id": "0462a57f-d1b3-4140-8306-a7cd619aee59",
   "metadata": {},
   "outputs": [
    {
     "ename": "ValueError",
     "evalue": "substring not found",
     "output_type": "error",
     "traceback": [
      "\u001b[1;31m---------------------------------------------------------------------------\u001b[0m",
      "\u001b[1;31mValueError\u001b[0m                                Traceback (most recent call last)",
      "Cell \u001b[1;32mIn[35], line 1\u001b[0m\n\u001b[1;32m----> 1\u001b[0m stocks\u001b[38;5;241m.\u001b[39mindex(\u001b[38;5;124m'\u001b[39m\u001b[38;5;124mB\u001b[39m\u001b[38;5;124m'\u001b[39m)\n",
      "\u001b[1;31mValueError\u001b[0m: substring not found"
     ]
    }
   ],
   "source": [
    "stocks.index('B')"
   ]
  },
  {
   "cell_type": "code",
   "execution_count": 36,
   "id": "04963ed1-81c3-441c-bc55-b7a6573dc84f",
   "metadata": {},
   "outputs": [
    {
     "data": {
      "text/plain": [
       "'AAPL,MSFT,GOOG,AMZN,TSLA'"
      ]
     },
     "execution_count": 36,
     "metadata": {},
     "output_type": "execute_result"
    }
   ],
   "source": [
    "stocks"
   ]
  },
  {
   "cell_type": "code",
   "execution_count": 37,
   "id": "794dc622-0830-44f5-b484-f948530b5bae",
   "metadata": {},
   "outputs": [
    {
     "data": {
      "text/plain": [
       "5"
      ]
     },
     "execution_count": 37,
     "metadata": {},
     "output_type": "execute_result"
    }
   ],
   "source": [
    "stocks.find('MSFT')"
   ]
  },
  {
   "cell_type": "code",
   "execution_count": 38,
   "id": "8274a149-7b92-4292-a883-6249d793674c",
   "metadata": {},
   "outputs": [
    {
     "data": {
      "text/plain": [
       "'AAPL,MSFT,GOOG,AMZN,TSLA'"
      ]
     },
     "execution_count": 38,
     "metadata": {},
     "output_type": "execute_result"
    }
   ],
   "source": [
    "stocks"
   ]
  },
  {
   "cell_type": "code",
   "execution_count": 39,
   "id": "2d7eff46-544c-42ea-85cb-0b2b190e0f1a",
   "metadata": {},
   "outputs": [
    {
     "data": {
      "text/plain": [
       "'A'"
      ]
     },
     "execution_count": 39,
     "metadata": {},
     "output_type": "execute_result"
    }
   ],
   "source": [
    "stocks[-1:]"
   ]
  },
  {
   "cell_type": "code",
   "execution_count": 40,
   "id": "c3b13de0-07d9-4c5f-a48b-e4746c6c0e5e",
   "metadata": {},
   "outputs": [
    {
     "data": {
      "text/plain": [
       "'AAPL,MSFT,GOOG,AMZN,TSLA'"
      ]
     },
     "execution_count": 40,
     "metadata": {},
     "output_type": "execute_result"
    }
   ],
   "source": [
    "stocks[:] "
   ]
  },
  {
   "cell_type": "code",
   "execution_count": 43,
   "id": "f04f3d50-48a2-4214-a1c8-e1324378a748",
   "metadata": {},
   "outputs": [
    {
     "data": {
      "text/plain": [
       "'ALS,OANS'"
      ]
     },
     "execution_count": 43,
     "metadata": {},
     "output_type": "execute_result"
    }
   ],
   "source": [
    "stocks[::3]"
   ]
  },
  {
   "cell_type": "code",
   "execution_count": 42,
   "id": "f37c5c89-6479-437c-8fc7-e78de3cafb2c",
   "metadata": {},
   "outputs": [
    {
     "data": {
      "text/plain": [
       "'ALST,NZMA,GOOG,TFSM,LPAA'"
      ]
     },
     "execution_count": 42,
     "metadata": {},
     "output_type": "execute_result"
    }
   ],
   "source": [
    "stocks[::-1]"
   ]
  },
  {
   "cell_type": "code",
   "execution_count": 44,
   "id": "9f25aa21-945a-4963-b2c6-5948c23fff0d",
   "metadata": {},
   "outputs": [
    {
     "ename": "IndentationError",
     "evalue": "unexpected indent (2219110311.py, line 2)",
     "output_type": "error",
     "traceback": [
      "\u001b[1;36m  Cell \u001b[1;32mIn[44], line 2\u001b[1;36m\u001b[0m\n\u001b[1;33m    0123456789\u001b[0m\n\u001b[1;37m    ^\u001b[0m\n\u001b[1;31mIndentationError\u001b[0m\u001b[1;31m:\u001b[0m unexpected indent\n"
     ]
    }
   ],
   "source": [
    "'AAPL,MSFT,GOOG,AMZN,TSLA'\n",
    " 0123456789\n",
    " 0 2 4 6 8\n",
    " 0  3  6  9  "
   ]
  },
  {
   "cell_type": "code",
   "execution_count": null,
   "id": "83c5dc54-67b3-4c22-b74e-a69798c4df0c",
   "metadata": {},
   "outputs": [],
   "source": [
    "#'AAPL,MSFT,GOOG,AMZN,TSLA' -> 'TSLA,AMZN...'"
   ]
  },
  {
   "cell_type": "markdown",
   "id": "f5213e6d-89a5-4282-b599-9a85c8115e10",
   "metadata": {},
   "source": [
    "nums = '12345,342,67457'"
   ]
  },
  {
   "cell_type": "code",
   "execution_count": 45,
   "id": "5a51a039-38de-4d33-88f2-a9e6a35c8874",
   "metadata": {},
   "outputs": [
    {
     "data": {
      "text/plain": [
       "'AAPL,MSFT,GOOG,AMZN,TSLA'"
      ]
     },
     "execution_count": 45,
     "metadata": {},
     "output_type": "execute_result"
    }
   ],
   "source": [
    "stocks"
   ]
  },
  {
   "cell_type": "code",
   "execution_count": 46,
   "id": "2ec248fd-aa9c-4246-8a4a-731ccff30fb9",
   "metadata": {},
   "outputs": [],
   "source": [
    "line = 'A sentence. \\n'"
   ]
  },
  {
   "cell_type": "code",
   "execution_count": 47,
   "id": "ab408a3e-bc40-4195-b4af-0762a63708eb",
   "metadata": {},
   "outputs": [
    {
     "data": {
      "text/plain": [
       "'A sentence.'"
      ]
     },
     "execution_count": 47,
     "metadata": {},
     "output_type": "execute_result"
    }
   ],
   "source": [
    "line.strip()"
   ]
  },
  {
   "cell_type": "code",
   "execution_count": 48,
   "id": "13c2595b-32b8-484d-ac6a-9aa4d99384fb",
   "metadata": {},
   "outputs": [
    {
     "data": {
      "text/plain": [
       "'AAPL,MSFT,GOOG,AMZN,TSLA'"
      ]
     },
     "execution_count": 48,
     "metadata": {},
     "output_type": "execute_result"
    }
   ],
   "source": [
    "stocks"
   ]
  },
  {
   "cell_type": "code",
   "execution_count": 49,
   "id": "d68237ba-6d25-47ab-9226-2f803f72e079",
   "metadata": {},
   "outputs": [
    {
     "data": {
      "text/plain": [
       "'PL,MSFT,GOOG,AMZN,TSL'"
      ]
     },
     "execution_count": 49,
     "metadata": {},
     "output_type": "execute_result"
    }
   ],
   "source": [
    "stocks.strip('A') "
   ]
  },
  {
   "cell_type": "code",
   "execution_count": 50,
   "id": "c3a539cd-77ef-4692-a1f1-54c8b700766a",
   "metadata": {},
   "outputs": [
    {
     "data": {
      "text/plain": [
       "'AAPL,MSFT,GOOG,AMZN,TSLA'"
      ]
     },
     "execution_count": 50,
     "metadata": {},
     "output_type": "execute_result"
    }
   ],
   "source": [
    "stocks"
   ]
  },
  {
   "cell_type": "code",
   "execution_count": 51,
   "id": "9536cc86-aee6-493a-8a59-616ff2a3481b",
   "metadata": {},
   "outputs": [
    {
     "data": {
      "text/plain": [
       "'L,MSFT,GOOG,AMZN,TSL'"
      ]
     },
     "execution_count": 51,
     "metadata": {},
     "output_type": "execute_result"
    }
   ],
   "source": [
    "stocks.strip('AP')"
   ]
  },
  {
   "cell_type": "code",
   "execution_count": 52,
   "id": "517db023-5f18-4e9f-acac-42f37efbb5a9",
   "metadata": {},
   "outputs": [
    {
     "data": {
      "text/plain": [
       "'usse'"
      ]
     },
     "execution_count": 52,
     "metadata": {},
     "output_type": "execute_result"
    }
   ],
   "source": [
    "'rrrrussell'.strip('rl')"
   ]
  },
  {
   "cell_type": "code",
   "execution_count": 53,
   "id": "b46d0c54-07c7-4950-8523-da4d94df7bf4",
   "metadata": {},
   "outputs": [
    {
     "data": {
      "text/plain": [
       "'AAPL,MSFT,GOOG,AMZN,TSLA'"
      ]
     },
     "execution_count": 53,
     "metadata": {},
     "output_type": "execute_result"
    }
   ],
   "source": [
    "stocks"
   ]
  },
  {
   "cell_type": "code",
   "execution_count": 54,
   "id": "88074491-5a88-4d63-bf63-6b4d25eba679",
   "metadata": {},
   "outputs": [
    {
     "data": {
      "text/plain": [
       "['AAPL', 'MSFT', 'GOOG', 'AMZN', 'TSLA']"
      ]
     },
     "execution_count": 54,
     "metadata": {},
     "output_type": "execute_result"
    }
   ],
   "source": [
    "stocks.split(',') "
   ]
  },
  {
   "cell_type": "code",
   "execution_count": 55,
   "id": "9535d8e2-4246-44e1-ac46-c578ba019204",
   "metadata": {},
   "outputs": [],
   "source": [
    "stocks = stocks.split(',') "
   ]
  },
  {
   "cell_type": "code",
   "execution_count": 56,
   "id": "0dadeedc-9434-4ce3-97a5-a0c29adf1a76",
   "metadata": {},
   "outputs": [
    {
     "data": {
      "text/plain": [
       "['AAPL', 'MSFT', 'GOOG', 'AMZN', 'TSLA']"
      ]
     },
     "execution_count": 56,
     "metadata": {},
     "output_type": "execute_result"
    }
   ],
   "source": [
    "stocks"
   ]
  },
  {
   "cell_type": "code",
   "execution_count": 57,
   "id": "6c6f3e4a-406e-446d-88da-899bc23466b8",
   "metadata": {},
   "outputs": [
    {
     "data": {
      "text/plain": [
       "'AAPL'"
      ]
     },
     "execution_count": 57,
     "metadata": {},
     "output_type": "execute_result"
    }
   ],
   "source": [
    "stocks[0] "
   ]
  },
  {
   "cell_type": "code",
   "execution_count": 58,
   "id": "5959f55a-dad6-40ad-92c7-e0835894579f",
   "metadata": {},
   "outputs": [
    {
     "data": {
      "text/plain": [
       "'TSLA'"
      ]
     },
     "execution_count": 58,
     "metadata": {},
     "output_type": "execute_result"
    }
   ],
   "source": [
    "stocks[-1]"
   ]
  },
  {
   "cell_type": "code",
   "execution_count": 59,
   "id": "4d41e9d6-1251-434d-92cb-212891850ca1",
   "metadata": {},
   "outputs": [
    {
     "data": {
      "text/plain": [
       "'A'"
      ]
     },
     "execution_count": 59,
     "metadata": {},
     "output_type": "execute_result"
    }
   ],
   "source": [
    "stocks[0][0]"
   ]
  },
  {
   "cell_type": "code",
   "execution_count": 60,
   "id": "4ffbfdc7-82ba-4898-9f10-e004bb0eedd6",
   "metadata": {},
   "outputs": [
    {
     "data": {
      "text/plain": [
       "'A'"
      ]
     },
     "execution_count": 60,
     "metadata": {},
     "output_type": "execute_result"
    }
   ],
   "source": [
    "stocks[-1][-1]"
   ]
  },
  {
   "cell_type": "code",
   "execution_count": 61,
   "id": "d641b5c2-0e74-456b-a040-c15b457ede42",
   "metadata": {},
   "outputs": [
    {
     "data": {
      "text/plain": [
       "['AAPL', 'MSFT', 'GOOG', 'AMZN', 'TSLA']"
      ]
     },
     "execution_count": 61,
     "metadata": {},
     "output_type": "execute_result"
    }
   ],
   "source": [
    "stocks"
   ]
  },
  {
   "cell_type": "code",
   "execution_count": 62,
   "id": "732dc655-10ad-473b-a4d5-c7481d084450",
   "metadata": {},
   "outputs": [
    {
     "data": {
      "text/plain": [
       "'TSLA'"
      ]
     },
     "execution_count": 62,
     "metadata": {},
     "output_type": "execute_result"
    }
   ],
   "source": [
    "stocks.pop()"
   ]
  },
  {
   "cell_type": "code",
   "execution_count": 65,
   "id": "4957693c-5714-4be9-b75d-bea401236cf4",
   "metadata": {},
   "outputs": [
    {
     "data": {
      "text/plain": [
       "['AAPL', 'MSFT', 'GOOG', 'AMZN']"
      ]
     },
     "execution_count": 65,
     "metadata": {},
     "output_type": "execute_result"
    }
   ],
   "source": [
    "stocks"
   ]
  },
  {
   "cell_type": "code",
   "execution_count": 66,
   "id": "26f0ec2a-fc7f-4ab3-af3b-7ed8a51b0691",
   "metadata": {},
   "outputs": [
    {
     "ename": "TypeError",
     "evalue": "can only concatenate list (not \"str\") to list",
     "output_type": "error",
     "traceback": [
      "\u001b[1;31m---------------------------------------------------------------------------\u001b[0m",
      "\u001b[1;31mTypeError\u001b[0m                                 Traceback (most recent call last)",
      "Cell \u001b[1;32mIn[66], line 1\u001b[0m\n\u001b[1;32m----> 1\u001b[0m stocks \u001b[38;5;241m+\u001b[39m \u001b[38;5;124m'\u001b[39m\u001b[38;5;124mTSLA\u001b[39m\u001b[38;5;124m'\u001b[39m\n",
      "\u001b[1;31mTypeError\u001b[0m: can only concatenate list (not \"str\") to list"
     ]
    }
   ],
   "source": [
    "stocks + 'TSLA'"
   ]
  },
  {
   "cell_type": "code",
   "execution_count": 67,
   "id": "4babfe0d-940c-4ed0-a6ab-efa7833e8b23",
   "metadata": {},
   "outputs": [],
   "source": [
    "stocks.append('TSLA')"
   ]
  },
  {
   "cell_type": "code",
   "execution_count": 68,
   "id": "92c1390c-c555-4149-b96b-369869939f91",
   "metadata": {},
   "outputs": [
    {
     "data": {
      "text/plain": [
       "['AAPL', 'MSFT', 'GOOG', 'AMZN', 'TSLA']"
      ]
     },
     "execution_count": 68,
     "metadata": {},
     "output_type": "execute_result"
    }
   ],
   "source": [
    "stocks"
   ]
  },
  {
   "cell_type": "code",
   "execution_count": 69,
   "id": "a06b056d-e3fe-4807-9f36-19aaf2f9a3ae",
   "metadata": {},
   "outputs": [
    {
     "data": {
      "text/plain": [
       "['AAPL', 'MSFT', 'GOOG', 'AMZN', 'TSLA', 'NVDA']"
      ]
     },
     "execution_count": 69,
     "metadata": {},
     "output_type": "execute_result"
    }
   ],
   "source": [
    "stocks + ['NVDA'] "
   ]
  },
  {
   "cell_type": "code",
   "execution_count": 70,
   "id": "cf82a8b9-9932-479d-afc9-39e2bf0d4c98",
   "metadata": {},
   "outputs": [
    {
     "data": {
      "text/plain": [
       "['AAPL', 'MSFT', 'GOOG', 'AMZN', 'TSLA']"
      ]
     },
     "execution_count": 70,
     "metadata": {},
     "output_type": "execute_result"
    }
   ],
   "source": [
    "stocks"
   ]
  },
  {
   "cell_type": "code",
   "execution_count": 71,
   "id": "70eadd7c-4773-4ac6-a541-cde6819a0cbe",
   "metadata": {},
   "outputs": [],
   "source": [
    "stocks.extend(['NVDA', 'AMD']) "
   ]
  },
  {
   "cell_type": "code",
   "execution_count": 72,
   "id": "183ca8b7-f6a5-4abb-81c1-52753ef2b4d0",
   "metadata": {},
   "outputs": [
    {
     "data": {
      "text/plain": [
       "['AAPL', 'MSFT', 'GOOG', 'AMZN', 'TSLA', 'NVDA', 'AMD']"
      ]
     },
     "execution_count": 72,
     "metadata": {},
     "output_type": "execute_result"
    }
   ],
   "source": [
    "stocks"
   ]
  },
  {
   "cell_type": "code",
   "execution_count": 74,
   "id": "be6ded33-f917-4cec-8485-dc64371e7fd6",
   "metadata": {},
   "outputs": [],
   "source": [
    "stocks.insert(3, ['IBM', 'INTL'])"
   ]
  },
  {
   "cell_type": "code",
   "execution_count": 75,
   "id": "bced9065-213d-4353-9d72-77bec0b2f52d",
   "metadata": {},
   "outputs": [
    {
     "data": {
      "text/plain": [
       "['AAPL', 'MSFT', 'GOOG', ['IBM', 'INTL'], 'AMZN', 'TSLA', 'NVDA', 'AMD']"
      ]
     },
     "execution_count": 75,
     "metadata": {},
     "output_type": "execute_result"
    }
   ],
   "source": [
    "stocks"
   ]
  },
  {
   "cell_type": "code",
   "execution_count": 76,
   "id": "dd430a17-e6a9-4d51-909b-37c188c04134",
   "metadata": {},
   "outputs": [],
   "source": [
    "stocks.append([1, 2, 3, 4])"
   ]
  },
  {
   "cell_type": "code",
   "execution_count": 77,
   "id": "13d03db9-ffa3-4db9-a1d4-b3f8b64506b5",
   "metadata": {},
   "outputs": [
    {
     "data": {
      "text/plain": [
       "['AAPL',\n",
       " 'MSFT',\n",
       " 'GOOG',\n",
       " ['IBM', 'INTL'],\n",
       " 'AMZN',\n",
       " 'TSLA',\n",
       " 'NVDA',\n",
       " 'AMD',\n",
       " [1, 2, 3, 4]]"
      ]
     },
     "execution_count": 77,
     "metadata": {},
     "output_type": "execute_result"
    }
   ],
   "source": [
    "stocks"
   ]
  },
  {
   "cell_type": "code",
   "execution_count": 78,
   "id": "c0dab3b9-8b74-4531-91fd-d0d9cecada67",
   "metadata": {},
   "outputs": [
    {
     "data": {
      "text/plain": [
       "True"
      ]
     },
     "execution_count": 78,
     "metadata": {},
     "output_type": "execute_result"
    }
   ],
   "source": [
    "'GOOG' in stocks"
   ]
  },
  {
   "cell_type": "code",
   "execution_count": 79,
   "id": "8ab11340-592a-4a45-bcbb-0d26ab839d02",
   "metadata": {},
   "outputs": [
    {
     "data": {
      "text/plain": [
       "False"
      ]
     },
     "execution_count": 79,
     "metadata": {},
     "output_type": "execute_result"
    }
   ],
   "source": [
    "'AA' in stocks"
   ]
  },
  {
   "cell_type": "code",
   "execution_count": 80,
   "id": "a58d727d-c607-4fb1-aaac-685276ca95ee",
   "metadata": {},
   "outputs": [
    {
     "data": {
      "text/plain": [
       "True"
      ]
     },
     "execution_count": 80,
     "metadata": {},
     "output_type": "execute_result"
    }
   ],
   "source": [
    "'AA' in stocks[0] "
   ]
  },
  {
   "cell_type": "code",
   "execution_count": 81,
   "id": "6273aa3f-880c-4a11-9f28-6247e559d663",
   "metadata": {},
   "outputs": [
    {
     "data": {
      "text/plain": [
       "['AAPL',\n",
       " 'MSFT',\n",
       " 'GOOG',\n",
       " ['IBM', 'INTL'],\n",
       " 'AMZN',\n",
       " 'TSLA',\n",
       " 'NVDA',\n",
       " 'AMD',\n",
       " [1, 2, 3, 4]]"
      ]
     },
     "execution_count": 81,
     "metadata": {},
     "output_type": "execute_result"
    }
   ],
   "source": [
    "stocks"
   ]
  },
  {
   "cell_type": "code",
   "execution_count": 82,
   "id": "20042fb7-f256-4454-9988-775e6e452d6d",
   "metadata": {},
   "outputs": [
    {
     "ename": "AttributeError",
     "evalue": "'list' object has no attribute 'lower'",
     "output_type": "error",
     "traceback": [
      "\u001b[1;31m---------------------------------------------------------------------------\u001b[0m",
      "\u001b[1;31mAttributeError\u001b[0m                            Traceback (most recent call last)",
      "Cell \u001b[1;32mIn[82], line 1\u001b[0m\n\u001b[1;32m----> 1\u001b[0m stocks\u001b[38;5;241m.\u001b[39mlower()\n",
      "\u001b[1;31mAttributeError\u001b[0m: 'list' object has no attribute 'lower'"
     ]
    }
   ],
   "source": [
    "stocks.lower()"
   ]
  },
  {
   "cell_type": "code",
   "execution_count": 86,
   "id": "5b272028-e92b-4d61-bd07-a13dcd5ef32b",
   "metadata": {},
   "outputs": [],
   "source": [
    "stocks = ['AAPL', 'MSFT', 'GOOG', 'AMZN', 'TSLA', 'NVDA', 'AMD']"
   ]
  },
  {
   "cell_type": "code",
   "execution_count": 87,
   "id": "4e8f4d28-ef06-4316-b81c-fb437f6eb759",
   "metadata": {},
   "outputs": [
    {
     "ename": "AttributeError",
     "evalue": "'list' object has no attribute 'lower'",
     "output_type": "error",
     "traceback": [
      "\u001b[1;31m---------------------------------------------------------------------------\u001b[0m",
      "\u001b[1;31mAttributeError\u001b[0m                            Traceback (most recent call last)",
      "Cell \u001b[1;32mIn[87], line 1\u001b[0m\n\u001b[1;32m----> 1\u001b[0m stocks\u001b[38;5;241m.\u001b[39mlower()\n",
      "\u001b[1;31mAttributeError\u001b[0m: 'list' object has no attribute 'lower'"
     ]
    }
   ],
   "source": [
    "stocks.lower()"
   ]
  },
  {
   "cell_type": "code",
   "execution_count": 88,
   "id": "1f2339a8-ac42-4b9b-b3a1-7021b2657d42",
   "metadata": {},
   "outputs": [
    {
     "data": {
      "text/plain": [
       "'aapl'"
      ]
     },
     "execution_count": 88,
     "metadata": {},
     "output_type": "execute_result"
    }
   ],
   "source": [
    "stocks[0].lower()"
   ]
  },
  {
   "cell_type": "code",
   "execution_count": 89,
   "id": "478521c8-532d-49f5-a5da-a15954e8b15a",
   "metadata": {},
   "outputs": [
    {
     "data": {
      "text/plain": [
       "['AAPL', 'MSFT', 'GOOG', 'AMZN', 'TSLA', 'NVDA', 'AMD']"
      ]
     },
     "execution_count": 89,
     "metadata": {},
     "output_type": "execute_result"
    }
   ],
   "source": [
    "stocks"
   ]
  },
  {
   "cell_type": "code",
   "execution_count": 90,
   "id": "78f6a667-f845-4cb7-8f94-e7a8010f5e06",
   "metadata": {},
   "outputs": [],
   "source": [
    "# Change every string in the list to lowercase\n",
    "\n",
    "for i in range(len(stocks)):\n",
    "    stocks[i] = stocks[i].lower()    "
   ]
  },
  {
   "cell_type": "code",
   "execution_count": 91,
   "id": "fbdc5932-f34e-45a5-9159-eebe29a58a34",
   "metadata": {},
   "outputs": [
    {
     "data": {
      "text/plain": [
       "['aapl', 'msft', 'goog', 'amzn', 'tsla', 'nvda', 'amd']"
      ]
     },
     "execution_count": 91,
     "metadata": {},
     "output_type": "execute_result"
    }
   ],
   "source": [
    "stocks"
   ]
  },
  {
   "cell_type": "code",
   "execution_count": 92,
   "id": "5cd392ab-ae4a-4f99-a451-24b7bb780451",
   "metadata": {},
   "outputs": [],
   "source": [
    "for i in range(len(stocks)):\n",
    "    stocks[i] = stocks[i].upper() "
   ]
  },
  {
   "cell_type": "code",
   "execution_count": 93,
   "id": "20582c62-6bd7-4ccb-9798-5b97475046ca",
   "metadata": {},
   "outputs": [
    {
     "data": {
      "text/plain": [
       "['AAPL', 'MSFT', 'GOOG', 'AMZN', 'TSLA', 'NVDA', 'AMD']"
      ]
     },
     "execution_count": 93,
     "metadata": {},
     "output_type": "execute_result"
    }
   ],
   "source": [
    "stocks"
   ]
  },
  {
   "cell_type": "code",
   "execution_count": 95,
   "id": "3655ab40-3a55-4ad0-ac72-30eff8eb0c8d",
   "metadata": {},
   "outputs": [
    {
     "name": "stdout",
     "output_type": "stream",
     "text": [
      "AAPL\n",
      "aapl\n",
      "MSFT\n",
      "msft\n",
      "GOOG\n",
      "goog\n",
      "AMZN\n",
      "amzn\n",
      "TSLA\n",
      "tsla\n",
      "NVDA\n",
      "nvda\n",
      "AMD\n",
      "amd\n"
     ]
    }
   ],
   "source": [
    "for stock in stocks:\n",
    "    print(stock)\n",
    "    stock = stock.lower()\n",
    "    print(stock)"
   ]
  },
  {
   "cell_type": "code",
   "execution_count": 96,
   "id": "845069e9-2dda-42dc-9ea6-da2ee72652de",
   "metadata": {},
   "outputs": [
    {
     "data": {
      "text/plain": [
       "['AAPL', 'MSFT', 'GOOG', 'AMZN', 'TSLA', 'NVDA', 'AMD']"
      ]
     },
     "execution_count": 96,
     "metadata": {},
     "output_type": "execute_result"
    }
   ],
   "source": [
    "stocks"
   ]
  },
  {
   "cell_type": "code",
   "execution_count": 97,
   "id": "ceffd542-e247-4943-85b7-43bf4eb4e330",
   "metadata": {},
   "outputs": [
    {
     "ename": "AttributeError",
     "evalue": "'list' object has no attribute 'find'",
     "output_type": "error",
     "traceback": [
      "\u001b[1;31m---------------------------------------------------------------------------\u001b[0m",
      "\u001b[1;31mAttributeError\u001b[0m                            Traceback (most recent call last)",
      "Cell \u001b[1;32mIn[97], line 1\u001b[0m\n\u001b[1;32m----> 1\u001b[0m stocks\u001b[38;5;241m.\u001b[39mfind(\u001b[38;5;124m'\u001b[39m\u001b[38;5;124mMSFT\u001b[39m\u001b[38;5;124m'\u001b[39m)\n",
      "\u001b[1;31mAttributeError\u001b[0m: 'list' object has no attribute 'find'"
     ]
    }
   ],
   "source": [
    "stocks.find('MSFT') "
   ]
  },
  {
   "cell_type": "code",
   "execution_count": 98,
   "id": "8eacbcf1-7123-45a7-bd31-982142cdde84",
   "metadata": {},
   "outputs": [
    {
     "data": {
      "text/plain": [
       "1"
      ]
     },
     "execution_count": 98,
     "metadata": {},
     "output_type": "execute_result"
    }
   ],
   "source": [
    "stocks.index('MSFT')"
   ]
  },
  {
   "cell_type": "code",
   "execution_count": 99,
   "id": "d81b471a-0167-4817-b8f5-3065b6e51623",
   "metadata": {},
   "outputs": [
    {
     "data": {
      "text/plain": [
       "['AAPL', 'MSFT', 'GOOG', 'AMZN', 'TSLA', 'NVDA', 'AMD']"
      ]
     },
     "execution_count": 99,
     "metadata": {},
     "output_type": "execute_result"
    }
   ],
   "source": [
    "stocks"
   ]
  },
  {
   "cell_type": "code",
   "execution_count": 100,
   "id": "3981fb56-d468-4974-81eb-d0b249949338",
   "metadata": {},
   "outputs": [
    {
     "data": {
      "text/plain": [
       "['AMD', 'NVDA', 'TSLA', 'AMZN', 'GOOG', 'MSFT', 'AAPL']"
      ]
     },
     "execution_count": 100,
     "metadata": {},
     "output_type": "execute_result"
    }
   ],
   "source": [
    "stocks[::-1]"
   ]
  },
  {
   "cell_type": "code",
   "execution_count": 101,
   "id": "1346a5fd-f2a1-47c1-9a62-fc52e74e781a",
   "metadata": {},
   "outputs": [
    {
     "data": {
      "text/plain": [
       "['AAPL', 'MSFT', 'GOOG', 'AMZN', 'TSLA', 'NVDA', 'AMD']"
      ]
     },
     "execution_count": 101,
     "metadata": {},
     "output_type": "execute_result"
    }
   ],
   "source": [
    "stocks"
   ]
  },
  {
   "cell_type": "code",
   "execution_count": 102,
   "id": "3ab728eb-0d28-4f31-978b-3677da66f6d2",
   "metadata": {},
   "outputs": [
    {
     "data": {
      "text/plain": [
       "<list_reverseiterator at 0x16e00260fa0>"
      ]
     },
     "execution_count": 102,
     "metadata": {},
     "output_type": "execute_result"
    }
   ],
   "source": [
    "reversed(stocks)"
   ]
  },
  {
   "cell_type": "code",
   "execution_count": 103,
   "id": "77e682c9-ce2d-4159-97a5-b3095c44517f",
   "metadata": {},
   "outputs": [
    {
     "data": {
      "text/plain": [
       "['AMD', 'NVDA', 'TSLA', 'AMZN', 'GOOG', 'MSFT', 'AAPL']"
      ]
     },
     "execution_count": 103,
     "metadata": {},
     "output_type": "execute_result"
    }
   ],
   "source": [
    "list(reversed(stocks))"
   ]
  },
  {
   "cell_type": "code",
   "execution_count": 104,
   "id": "e45ef8aa-f528-4166-9f9f-ea82224f49e5",
   "metadata": {},
   "outputs": [
    {
     "data": {
      "text/plain": [
       "['A', 'L', 'S', 'T', 'A', 'D', 'V', 'N']"
      ]
     },
     "execution_count": 104,
     "metadata": {},
     "output_type": "execute_result"
    }
   ],
   "source": [
    "list(reversed('NVDATSLA'))"
   ]
  },
  {
   "cell_type": "code",
   "execution_count": 105,
   "id": "acd1dcb4-dd48-4ab0-b29d-97a256abcf96",
   "metadata": {},
   "outputs": [
    {
     "data": {
      "text/plain": [
       "['AAPL', 'MSFT', 'GOOG', 'AMZN', 'TSLA', 'NVDA', 'AMD']"
      ]
     },
     "execution_count": 105,
     "metadata": {},
     "output_type": "execute_result"
    }
   ],
   "source": [
    "stocks"
   ]
  },
  {
   "cell_type": "code",
   "execution_count": 106,
   "id": "0ddcb13c-0c1a-4430-ad04-9bd005ca2157",
   "metadata": {},
   "outputs": [
    {
     "data": {
      "text/plain": [
       "'AAPL,MSFT,GOOG,AMZN,TSLA,NVDA,AMD'"
      ]
     },
     "execution_count": 106,
     "metadata": {},
     "output_type": "execute_result"
    }
   ],
   "source": [
    "','.join(stocks) "
   ]
  },
  {
   "cell_type": "code",
   "execution_count": 107,
   "id": "b0586fbc-b9b3-45f6-830c-d5c174dd33b5",
   "metadata": {},
   "outputs": [
    {
     "data": {
      "text/plain": [
       "['AAPL', 'MSFT', 'GOOG', 'AMZN', 'TSLA', 'NVDA', 'AMD']"
      ]
     },
     "execution_count": 107,
     "metadata": {},
     "output_type": "execute_result"
    }
   ],
   "source": [
    "'AAPL,MSFT,GOOG,AMZN,TSLA,NVDA,AMD'.split(',')"
   ]
  },
  {
   "cell_type": "code",
   "execution_count": 108,
   "id": "eee25f17-4e5c-4739-9376-69baae92a0a1",
   "metadata": {},
   "outputs": [],
   "source": [
    "#'AAPL,MSFT,GOOG,AMZN,TSLA' -> 'TSLA,AMZN...'"
   ]
  },
  {
   "cell_type": "code",
   "execution_count": 109,
   "id": "6240c040-9a9f-446d-9dff-7b139004e9d1",
   "metadata": {},
   "outputs": [],
   "source": [
    "stocks = 'AAPL,MSFT,GOOG,AMZN,TSLA,NVDA,AMD'"
   ]
  },
  {
   "cell_type": "code",
   "execution_count": null,
   "id": "f338a0f0-961b-4aa7-ba95-2e1103b726c6",
   "metadata": {},
   "outputs": [],
   "source": [
    "# str -> list -> reverse the list -> join"
   ]
  },
  {
   "cell_type": "code",
   "execution_count": 111,
   "id": "381ed06e-27d3-4ff4-b064-63bff663023d",
   "metadata": {},
   "outputs": [
    {
     "data": {
      "text/plain": [
       "'AMD,NVDA,TSLA,AMZN,GOOG,MSFT,AAPL'"
      ]
     },
     "execution_count": 111,
     "metadata": {},
     "output_type": "execute_result"
    }
   ],
   "source": [
    "stocks_list = stocks.split(',')\n",
    "reversed_list = stocks_list[::-1]\n",
    "reversed_str = ','.join(reversed_list)\n",
    "reversed_str"
   ]
  },
  {
   "cell_type": "code",
   "execution_count": 113,
   "id": "9127d15f-f76e-4c1a-aee6-ced7b835b65b",
   "metadata": {},
   "outputs": [
    {
     "data": {
      "text/plain": [
       "'AMD, NVDA, TSLA, AMZN, GOOG, MSFT, AAPL'"
      ]
     },
     "execution_count": 113,
     "metadata": {},
     "output_type": "execute_result"
    }
   ],
   "source": [
    "', '.join(stocks.split(',')[::-1] )"
   ]
  },
  {
   "cell_type": "code",
   "execution_count": 114,
   "id": "d9da8ddc-a5f0-428a-9d2f-75c029861ed4",
   "metadata": {},
   "outputs": [
    {
     "name": "stdout",
     "output_type": "stream",
     "text": [
      "AAPL,MSFT,GOOG,AMZN,TSLA,NVDA,AMD\n",
      "['AAPL', 'MSFT', 'GOOG', 'AMZN', 'TSLA', 'NVDA', 'AMD']\n"
     ]
    }
   ],
   "source": [
    "# What are some common functions that work on both strings and lists?\n",
    "\n",
    "print(stocks)\n",
    "print(stocks_list)"
   ]
  },
  {
   "cell_type": "code",
   "execution_count": 115,
   "id": "c072df70-edf9-4936-9b57-28dfe1207aa2",
   "metadata": {},
   "outputs": [],
   "source": [
    "stocks_str = stocks"
   ]
  },
  {
   "cell_type": "code",
   "execution_count": 116,
   "id": "367c4c0e-8ba0-4dc5-94f7-6f144e40b1a2",
   "metadata": {},
   "outputs": [
    {
     "data": {
      "text/plain": [
       "33"
      ]
     },
     "execution_count": 116,
     "metadata": {},
     "output_type": "execute_result"
    }
   ],
   "source": [
    "len(stocks_str) # number of characters"
   ]
  },
  {
   "cell_type": "code",
   "execution_count": 117,
   "id": "f599325a-64c1-41d7-8749-a3f4b60637f3",
   "metadata": {},
   "outputs": [
    {
     "data": {
      "text/plain": [
       "7"
      ]
     },
     "execution_count": 117,
     "metadata": {},
     "output_type": "execute_result"
    }
   ],
   "source": [
    "len(stocks_list)  # number of items"
   ]
  },
  {
   "cell_type": "code",
   "execution_count": 118,
   "id": "ad6cb294-86df-4d78-bb2d-ec1ac6ea63e1",
   "metadata": {},
   "outputs": [],
   "source": [
    "str_1 = 'abcd'\n",
    "list_1 = list(str_1)"
   ]
  },
  {
   "cell_type": "code",
   "execution_count": 119,
   "id": "60966731-b24e-42d0-92ee-b4568f820d27",
   "metadata": {},
   "outputs": [
    {
     "data": {
      "text/plain": [
       "['a', 'b', 'c', 'd']"
      ]
     },
     "execution_count": 119,
     "metadata": {},
     "output_type": "execute_result"
    }
   ],
   "source": [
    "list_1"
   ]
  },
  {
   "cell_type": "code",
   "execution_count": 120,
   "id": "c56699b5-06ab-4eb5-8dc1-1899becd38cf",
   "metadata": {},
   "outputs": [
    {
     "data": {
      "text/plain": [
       "'d'"
      ]
     },
     "execution_count": 120,
     "metadata": {},
     "output_type": "execute_result"
    }
   ],
   "source": [
    "max(str_1) "
   ]
  },
  {
   "cell_type": "code",
   "execution_count": 121,
   "id": "6c832678-7bef-42ed-acbe-9971ee8ddfc0",
   "metadata": {},
   "outputs": [
    {
     "data": {
      "text/plain": [
       "'d'"
      ]
     },
     "execution_count": 121,
     "metadata": {},
     "output_type": "execute_result"
    }
   ],
   "source": [
    "max(list_1)"
   ]
  },
  {
   "cell_type": "code",
   "execution_count": 122,
   "id": "76b4463f-c2f6-491a-a8ac-7f03180d4412",
   "metadata": {},
   "outputs": [],
   "source": [
    "num_list = [35234, 7456, 234, 0]"
   ]
  },
  {
   "cell_type": "code",
   "execution_count": 123,
   "id": "1f666d25-d4cc-4078-9256-34348d98dc29",
   "metadata": {},
   "outputs": [
    {
     "data": {
      "text/plain": [
       "35234"
      ]
     },
     "execution_count": 123,
     "metadata": {},
     "output_type": "execute_result"
    }
   ],
   "source": [
    "max(num_list)"
   ]
  },
  {
   "cell_type": "code",
   "execution_count": 124,
   "id": "4b273301-d5c6-4b94-98b2-f36611a13165",
   "metadata": {},
   "outputs": [
    {
     "data": {
      "text/plain": [
       "0"
      ]
     },
     "execution_count": 124,
     "metadata": {},
     "output_type": "execute_result"
    }
   ],
   "source": [
    "min(num_list)"
   ]
  },
  {
   "cell_type": "code",
   "execution_count": 125,
   "id": "65a3130c-373b-4ee6-9d0e-c13fc2d22ac2",
   "metadata": {},
   "outputs": [
    {
     "data": {
      "text/plain": [
       "'AAPL,MSFT,GOOG,AMZN,TSLA,NVDA,AMD'"
      ]
     },
     "execution_count": 125,
     "metadata": {},
     "output_type": "execute_result"
    }
   ],
   "source": [
    "stocks_str"
   ]
  },
  {
   "cell_type": "code",
   "execution_count": 127,
   "id": "ad90c2b3-b3f8-4c13-9657-7d9e3a999c31",
   "metadata": {},
   "outputs": [
    {
     "data": {
      "text/plain": [
       "['D',\n",
       " 'M',\n",
       " 'A',\n",
       " ',',\n",
       " 'A',\n",
       " 'D',\n",
       " 'V',\n",
       " 'N',\n",
       " ',',\n",
       " 'A',\n",
       " 'L',\n",
       " 'S',\n",
       " 'T',\n",
       " ',',\n",
       " 'N',\n",
       " 'Z',\n",
       " 'M',\n",
       " 'A',\n",
       " ',',\n",
       " 'G',\n",
       " 'O',\n",
       " 'O',\n",
       " 'G',\n",
       " ',',\n",
       " 'T',\n",
       " 'F',\n",
       " 'S',\n",
       " 'M',\n",
       " ',',\n",
       " 'L',\n",
       " 'P',\n",
       " 'A',\n",
       " 'A']"
      ]
     },
     "execution_count": 127,
     "metadata": {},
     "output_type": "execute_result"
    }
   ],
   "source": [
    "list(reversed(stocks_str))"
   ]
  },
  {
   "cell_type": "code",
   "execution_count": 128,
   "id": "1afb0355-e5b5-42d0-bea3-826b132210bc",
   "metadata": {},
   "outputs": [
    {
     "data": {
      "text/plain": [
       "['AMD', 'NVDA', 'TSLA', 'AMZN', 'GOOG', 'MSFT', 'AAPL']"
      ]
     },
     "execution_count": 128,
     "metadata": {},
     "output_type": "execute_result"
    }
   ],
   "source": [
    "list(reversed(stocks_list))"
   ]
  },
  {
   "cell_type": "code",
   "execution_count": 132,
   "id": "b106ec05-7a0f-4ec1-bc40-20c626a85fa6",
   "metadata": {},
   "outputs": [],
   "source": [
    "num_str = '4364352'\n",
    "num_list = [452, 65, 865, 24, -432]\n",
    "num_list2 = ['452', '65', '24', '-432']"
   ]
  },
  {
   "cell_type": "code",
   "execution_count": 130,
   "id": "d4fd940e-cc70-4c00-8caf-ade5df06c58f",
   "metadata": {},
   "outputs": [
    {
     "data": {
      "text/plain": [
       "['2', '3', '3', '4', '4', '5', '6']"
      ]
     },
     "execution_count": 130,
     "metadata": {},
     "output_type": "execute_result"
    }
   ],
   "source": [
    "sorted(num_str)"
   ]
  },
  {
   "cell_type": "code",
   "execution_count": 131,
   "id": "64fbfe2a-4e0b-4de8-8335-28f43fadf4f1",
   "metadata": {},
   "outputs": [
    {
     "data": {
      "text/plain": [
       "[-432, 24, 65, 452, 865]"
      ]
     },
     "execution_count": 131,
     "metadata": {},
     "output_type": "execute_result"
    }
   ],
   "source": [
    "sorted(num_list)"
   ]
  },
  {
   "cell_type": "code",
   "execution_count": 133,
   "id": "b7a47700-8ebe-4887-901f-79a9b6455b89",
   "metadata": {},
   "outputs": [
    {
     "data": {
      "text/plain": [
       "['-432', '24', '452', '65']"
      ]
     },
     "execution_count": 133,
     "metadata": {},
     "output_type": "execute_result"
    }
   ],
   "source": [
    "sorted(num_list2)"
   ]
  },
  {
   "cell_type": "code",
   "execution_count": 134,
   "id": "0d749fbd-3b62-453c-94f8-99d9b878dd40",
   "metadata": {},
   "outputs": [
    {
     "data": {
      "text/plain": [
       "[452, 65, 865, 24, -432]"
      ]
     },
     "execution_count": 134,
     "metadata": {},
     "output_type": "execute_result"
    }
   ],
   "source": [
    "num_list"
   ]
  },
  {
   "cell_type": "code",
   "execution_count": 135,
   "id": "8b6a65b2-5432-41d7-831d-75b8a66a9abb",
   "metadata": {},
   "outputs": [
    {
     "data": {
      "text/plain": [
       "[-432, 24, 65, 452, 865]"
      ]
     },
     "execution_count": 135,
     "metadata": {},
     "output_type": "execute_result"
    }
   ],
   "source": [
    "sorted(num_list)"
   ]
  },
  {
   "cell_type": "code",
   "execution_count": 136,
   "id": "086f16f0-c9b7-4c98-b69e-15f9e861c2ae",
   "metadata": {},
   "outputs": [
    {
     "data": {
      "text/plain": [
       "[452, 65, 865, 24, -432]"
      ]
     },
     "execution_count": 136,
     "metadata": {},
     "output_type": "execute_result"
    }
   ],
   "source": [
    "num_list"
   ]
  },
  {
   "cell_type": "code",
   "execution_count": 137,
   "id": "5900cabd-47ea-4f1f-8981-5ccfa0b10d3c",
   "metadata": {},
   "outputs": [],
   "source": [
    "num_list.sort()"
   ]
  },
  {
   "cell_type": "code",
   "execution_count": 138,
   "id": "f2bcbbe6-eb89-4e22-b6ea-ccf2bc9d54c0",
   "metadata": {},
   "outputs": [
    {
     "data": {
      "text/plain": [
       "[-432, 24, 65, 452, 865]"
      ]
     },
     "execution_count": 138,
     "metadata": {},
     "output_type": "execute_result"
    }
   ],
   "source": [
    "num_list"
   ]
  },
  {
   "cell_type": "code",
   "execution_count": 139,
   "id": "bee58146-a907-4012-9de4-66d3f7391134",
   "metadata": {},
   "outputs": [
    {
     "name": "stdout",
     "output_type": "stream",
     "text": [
      "Help on method_descriptor:\n",
      "\n",
      "sort(self, /, *, key=None, reverse=False) unbound builtins.list method\n",
      "    Sort the list in ascending order and return None.\n",
      "\n",
      "    The sort is in-place (i.e. the list itself is modified) and stable (i.e. the\n",
      "    order of two equal elements is maintained).\n",
      "\n",
      "    If a key function is given, apply it once to each list item and sort them,\n",
      "    ascending or descending, according to their function values.\n",
      "\n",
      "    The reverse flag can be set to sort in descending order.\n",
      "\n"
     ]
    }
   ],
   "source": [
    "help(list.sort)"
   ]
  },
  {
   "cell_type": "code",
   "execution_count": 140,
   "id": "144ceab8-e86f-4ed7-8bec-69a8c6c946f4",
   "metadata": {},
   "outputs": [
    {
     "name": "stdout",
     "output_type": "stream",
     "text": [
      "Help on method_descriptor:\n",
      "\n",
      "append(self, object, /) unbound builtins.list method\n",
      "    Append object to the end of the list.\n",
      "\n"
     ]
    }
   ],
   "source": [
    "help(list.append)"
   ]
  },
  {
   "cell_type": "code",
   "execution_count": 141,
   "id": "0f8fd5d1-3ce8-4748-ad40-7907f53eca9d",
   "metadata": {},
   "outputs": [
    {
     "data": {
      "text/plain": [
       "['AAPL', 'MSFT', 'GOOG', 'AMZN', 'TSLA', 'NVDA', 'AMD']"
      ]
     },
     "execution_count": 141,
     "metadata": {},
     "output_type": "execute_result"
    }
   ],
   "source": [
    "stocks_list"
   ]
  },
  {
   "cell_type": "code",
   "execution_count": 142,
   "id": "41c4718f-531f-435e-a498-cf448801244d",
   "metadata": {},
   "outputs": [],
   "source": [
    "stocks_list_2 = stocks_list.append('IBM') "
   ]
  },
  {
   "cell_type": "code",
   "execution_count": 143,
   "id": "80f1e2be-e0f5-473e-b8d8-c8a0fe9f72eb",
   "metadata": {},
   "outputs": [
    {
     "data": {
      "text/plain": [
       "['AAPL', 'MSFT', 'GOOG', 'AMZN', 'TSLA', 'NVDA', 'AMD', 'IBM']"
      ]
     },
     "execution_count": 143,
     "metadata": {},
     "output_type": "execute_result"
    }
   ],
   "source": [
    "stocks_list"
   ]
  },
  {
   "cell_type": "code",
   "execution_count": 144,
   "id": "d490dec9-fa05-44c9-817e-6b7499c0153d",
   "metadata": {},
   "outputs": [],
   "source": [
    "stocks_list_2"
   ]
  },
  {
   "cell_type": "code",
   "execution_count": 145,
   "id": "c9024d5a-a230-4e2b-8d26-50ca7f8951a2",
   "metadata": {},
   "outputs": [
    {
     "name": "stdout",
     "output_type": "stream",
     "text": [
      "None\n"
     ]
    }
   ],
   "source": [
    "print(stocks_list_2)"
   ]
  },
  {
   "cell_type": "code",
   "execution_count": null,
   "id": "dff8ed8b-12b9-42fd-8d5a-100898bb0b96",
   "metadata": {},
   "outputs": [],
   "source": []
  }
 ],
 "metadata": {
  "kernelspec": {
   "display_name": "Python [conda env:base] *",
   "language": "python",
   "name": "conda-base-py"
  },
  "language_info": {
   "codemirror_mode": {
    "name": "ipython",
    "version": 3
   },
   "file_extension": ".py",
   "mimetype": "text/x-python",
   "name": "python",
   "nbconvert_exporter": "python",
   "pygments_lexer": "ipython3",
   "version": "3.13.5"
  }
 },
 "nbformat": 4,
 "nbformat_minor": 5
}
