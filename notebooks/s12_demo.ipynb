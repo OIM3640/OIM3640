{
 "cells": [
  {
   "cell_type": "code",
   "execution_count": 2,
   "id": "b0b12eda",
   "metadata": {},
   "outputs": [],
   "source": [
    "range(4)"
   ]
  },
  {
   "cell_type": "code",
   "execution_count": 3,
   "id": "32323f09",
   "metadata": {},
   "outputs": [],
   "source": [
    "type(None)"
   ]
  },
  {
   "cell_type": "code",
   "execution_count": 4,
   "id": "89899b52",
   "metadata": {},
   "outputs": [],
   "source": [
    "type(1)"
   ]
  },
  {
   "cell_type": "code",
   "execution_count": 5,
   "id": "8921ad9d",
   "metadata": {},
   "outputs": [],
   "source": [
    "type(1.5)"
   ]
  },
  {
   "cell_type": "code",
   "execution_count": 6,
   "id": "3049542d",
   "metadata": {},
   "outputs": [],
   "source": [
    "type('python') "
   ]
  },
  {
   "cell_type": "code",
   "execution_count": 7,
   "id": "1a6287b4",
   "metadata": {},
   "outputs": [],
   "source": [
    "name = 'tauria'"
   ]
  },
  {
   "cell_type": "code",
   "execution_count": 8,
   "id": "304207fc",
   "metadata": {},
   "outputs": [],
   "source": [
    "name"
   ]
  },
  {
   "cell_type": "code",
   "execution_count": 9,
   "id": "cc5688e8",
   "metadata": {},
   "outputs": [],
   "source": [
    "name[0]"
   ]
  },
  {
   "cell_type": "code",
   "execution_count": 10,
   "id": "26077863",
   "metadata": {},
   "outputs": [],
   "source": [
    "name[1] "
   ]
  },
  {
   "cell_type": "code",
   "execution_count": 11,
   "id": "503be831",
   "metadata": {},
   "outputs": [],
   "source": [
    "name[2]"
   ]
  },
  {
   "cell_type": "code",
   "execution_count": 12,
   "id": "25708f50",
   "metadata": {},
   "outputs": [],
   "source": [
    "name[6] "
   ]
  },
  {
   "cell_type": "code",
   "execution_count": 13,
   "id": "09bcac3c",
   "metadata": {},
   "outputs": [],
   "source": [
    "len(name)"
   ]
  },
  {
   "cell_type": "code",
   "execution_count": 14,
   "id": "8e2daabd",
   "metadata": {},
   "outputs": [],
   "source": [
    "name[5]"
   ]
  },
  {
   "cell_type": "code",
   "execution_count": 15,
   "id": "9245b707",
   "metadata": {},
   "outputs": [],
   "source": [
    "team = 'red socks'"
   ]
  },
  {
   "cell_type": "code",
   "execution_count": 16,
   "id": "6fde47d5",
   "metadata": {},
   "outputs": [],
   "source": [
    "len(team) "
   ]
  },
  {
   "cell_type": "code",
   "execution_count": 17,
   "id": "a037bcb3",
   "metadata": {},
   "outputs": [],
   "source": [
    "team[0, 2] "
   ]
  },
  {
   "cell_type": "code",
   "execution_count": 18,
   "id": "115a2b66",
   "metadata": {},
   "outputs": [],
   "source": [
    "team"
   ]
  },
  {
   "cell_type": "code",
   "execution_count": 19,
   "id": "cdea15d1",
   "metadata": {},
   "outputs": [],
   "source": [
    "# slicing"
   ]
  },
  {
   "cell_type": "code",
   "execution_count": 20,
   "id": "06b5f22e",
   "metadata": {},
   "outputs": [],
   "source": [
    "team[0:3] "
   ]
  },
  {
   "cell_type": "code",
   "execution_count": 21,
   "id": "84dce3cb",
   "metadata": {},
   "outputs": [],
   "source": [
    "for i in range(1, 5):\n",
    "    print(i) \n",
    "    "
   ]
  },
  {
   "cell_type": "code",
   "execution_count": 22,
   "id": "5d1dfa68",
   "metadata": {},
   "outputs": [],
   "source": [
    "team[1:5]"
   ]
  },
  {
   "cell_type": "code",
   "execution_count": 23,
   "id": "4d0a91ae",
   "metadata": {},
   "outputs": [],
   "source": [
    "team"
   ]
  },
  {
   "cell_type": "code",
   "execution_count": 24,
   "id": "06e73afb",
   "metadata": {},
   "outputs": [],
   "source": [
    "team[:3] "
   ]
  },
  {
   "cell_type": "code",
   "execution_count": 25,
   "id": "fb88188a",
   "metadata": {},
   "outputs": [],
   "source": [
    "team[-1] "
   ]
  },
  {
   "cell_type": "code",
   "execution_count": 26,
   "id": "0e0714d7",
   "metadata": {},
   "outputs": [],
   "source": [
    "team[-2] "
   ]
  },
  {
   "cell_type": "code",
   "execution_count": 27,
   "id": "ebea6165",
   "metadata": {},
   "outputs": [],
   "source": [
    "team[-5:] "
   ]
  },
  {
   "cell_type": "code",
   "execution_count": 28,
   "id": "db36a85c",
   "metadata": {},
   "outputs": [],
   "source": [
    "team"
   ]
  },
  {
   "cell_type": "code",
   "execution_count": 29,
   "id": "2c46d093",
   "metadata": {},
   "outputs": [],
   "source": [
    "team[1.0] "
   ]
  },
  {
   "cell_type": "code",
   "execution_count": 30,
   "id": "9d18f1a2",
   "metadata": {},
   "outputs": [],
   "source": [
    "team"
   ]
  },
  {
   "cell_type": "code",
   "execution_count": 31,
   "id": "3bc17eb2",
   "metadata": {},
   "outputs": [],
   "source": [
    "team[-0]"
   ]
  },
  {
   "cell_type": "code",
   "execution_count": 32,
   "id": "d6e3fe8c",
   "metadata": {},
   "outputs": [],
   "source": [
    "len(team)"
   ]
  },
  {
   "cell_type": "code",
   "execution_count": 33,
   "id": "cbb7c577",
   "metadata": {},
   "outputs": [],
   "source": [
    "team[8] "
   ]
  },
  {
   "cell_type": "code",
   "execution_count": 34,
   "id": "7749eff7",
   "metadata": {},
   "outputs": [],
   "source": [
    "team[len(team) - 1]"
   ]
  },
  {
   "cell_type": "code",
   "execution_count": 35,
   "id": "906ff7eb",
   "metadata": {},
   "outputs": [],
   "source": [
    "team[-1]"
   ]
  },
  {
   "cell_type": "code",
   "execution_count": 36,
   "id": "82bc362d",
   "metadata": {},
   "outputs": [],
   "source": [
    "team"
   ]
  },
  {
   "cell_type": "code",
   "execution_count": 37,
   "id": "47bbed63",
   "metadata": {},
   "outputs": [],
   "source": [
    "team[0:3]"
   ]
  },
  {
   "cell_type": "code",
   "execution_count": 38,
   "id": "73bbb335",
   "metadata": {},
   "outputs": [],
   "source": [
    "team[3:0] "
   ]
  },
  {
   "cell_type": "code",
   "execution_count": 39,
   "id": "2fe00756",
   "metadata": {},
   "outputs": [],
   "source": [
    "team[3:0:-1] "
   ]
  },
  {
   "cell_type": "code",
   "execution_count": 40,
   "id": "da47d66b",
   "metadata": {},
   "outputs": [],
   "source": [
    "team[::2] "
   ]
  },
  {
   "cell_type": "code",
   "execution_count": 41,
   "id": "26f33e95",
   "metadata": {},
   "outputs": [],
   "source": [
    "team[:]"
   ]
  },
  {
   "cell_type": "code",
   "execution_count": 42,
   "id": "ec023eb0",
   "metadata": {},
   "outputs": [],
   "source": [
    "team[::-1]"
   ]
  },
  {
   "cell_type": "code",
   "execution_count": 43,
   "id": "34db808f",
   "metadata": {},
   "outputs": [],
   "source": [
    "team"
   ]
  },
  {
   "cell_type": "code",
   "execution_count": 44,
   "id": "72da4292",
   "metadata": {},
   "outputs": [],
   "source": [
    "# strings are immutable"
   ]
  },
  {
   "cell_type": "code",
   "execution_count": 45,
   "id": "4253b603",
   "metadata": {},
   "outputs": [],
   "source": [
    "team[:3] = 'green'"
   ]
  },
  {
   "cell_type": "code",
   "execution_count": 46,
   "id": "d68cc55d",
   "metadata": {},
   "outputs": [],
   "source": [
    "team"
   ]
  },
  {
   "cell_type": "code",
   "execution_count": 47,
   "id": "d66406d1",
   "metadata": {},
   "outputs": [],
   "source": [
    "team[:3]"
   ]
  },
  {
   "cell_type": "code",
   "execution_count": 48,
   "id": "69ea3cc4",
   "metadata": {},
   "outputs": [],
   "source": [
    "team[:3] = 'gre'"
   ]
  },
  {
   "cell_type": "code",
   "execution_count": 49,
   "id": "78923c9f",
   "metadata": {},
   "outputs": [],
   "source": [
    "team"
   ]
  },
  {
   "cell_type": "code",
   "execution_count": 50,
   "id": "9221f236",
   "metadata": {},
   "outputs": [],
   "source": [
    "new_team = 'green' + team[3:] "
   ]
  },
  {
   "cell_type": "code",
   "execution_count": 51,
   "id": "b4cbbda1",
   "metadata": {},
   "outputs": [],
   "source": [
    "new_team"
   ]
  },
  {
   "cell_type": "code",
   "execution_count": 52,
   "id": "62dba972",
   "metadata": {},
   "outputs": [],
   "source": [
    "team"
   ]
  },
  {
   "cell_type": "code",
   "execution_count": 53,
   "id": "84443cee",
   "metadata": {},
   "outputs": [],
   "source": [
    "for i in range(0, 3):\n",
    "    print(i)\n",
    "    "
   ]
  },
  {
   "cell_type": "code",
   "execution_count": 54,
   "id": "7df0cc2c",
   "metadata": {},
   "outputs": [],
   "source": [
    "for i in range(0, 10, 3):\n",
    "    print(i) \n",
    "    "
   ]
  },
  {
   "cell_type": "code",
   "execution_count": 55,
   "id": "55361295",
   "metadata": {},
   "outputs": [],
   "source": [
    "team"
   ]
  },
  {
   "cell_type": "code",
   "execution_count": 56,
   "id": "cd04d1b0",
   "metadata": {},
   "outputs": [],
   "source": [
    "team[0::3]"
   ]
  },
  {
   "cell_type": "code",
   "execution_count": 57,
   "id": "8870ea78",
   "metadata": {},
   "outputs": [],
   "source": [
    "for c in team:\n",
    "    print(c)\n",
    "    "
   ]
  },
  {
   "cell_type": "code",
   "execution_count": 58,
   "id": "d9d3dcf0",
   "metadata": {},
   "outputs": [],
   "source": [
    "count = 0\n",
    "for c in team:\n",
    "    if c in 'aeiou':\n",
    "        count += 1\n",
    "        "
   ]
  },
  {
   "cell_type": "code",
   "execution_count": 59,
   "id": "27ce2590",
   "metadata": {},
   "outputs": [],
   "source": [
    "count"
   ]
  },
  {
   "cell_type": "code",
   "execution_count": 60,
   "id": "3d33e0da",
   "metadata": {},
   "outputs": [],
   "source": [
    "team"
   ]
  },
  {
   "cell_type": "code",
   "execution_count": 61,
   "id": "994acc79",
   "metadata": {},
   "outputs": [],
   "source": [
    "' ' in team"
   ]
  },
  {
   "cell_type": "code",
   "execution_count": 62,
   "id": "aea8d7ab",
   "metadata": {},
   "outputs": [],
   "source": [
    "'soc' in team"
   ]
  },
  {
   "cell_type": "code",
   "execution_count": 63,
   "id": "cf392986",
   "metadata": {},
   "outputs": [],
   "source": [
    "team.upper() "
   ]
  },
  {
   "cell_type": "code",
   "execution_count": 64,
   "id": "8b88b993",
   "metadata": {},
   "outputs": [],
   "source": [
    "'Babson'.lower() "
   ]
  },
  {
   "cell_type": "code",
   "execution_count": 65,
   "id": "82445631",
   "metadata": {},
   "outputs": [],
   "source": [
    "'babson college'.title() "
   ]
  },
  {
   "cell_type": "code",
   "execution_count": 66,
   "id": "8915d8b6",
   "metadata": {},
   "outputs": [],
   "source": [
    "'babson'.isupper() "
   ]
  },
  {
   "cell_type": "code",
   "execution_count": 67,
   "id": "f1214c96",
   "metadata": {},
   "outputs": [],
   "source": [
    "'BABSON'.isupper()"
   ]
  },
  {
   "cell_type": "code",
   "execution_count": 68,
   "id": "a63d4db5",
   "metadata": {},
   "outputs": [],
   "source": [
    "'Babson'.isupper() "
   ]
  },
  {
   "cell_type": "code",
   "execution_count": 69,
   "id": "b5783570",
   "metadata": {},
   "outputs": [],
   "source": [
    "'babson college'.islower()"
   ]
  },
  {
   "cell_type": "code",
   "execution_count": 70,
   "id": "b00b4ac6",
   "metadata": {},
   "outputs": [],
   "source": [
    "'123'.isdigit()"
   ]
  },
  {
   "cell_type": "code",
   "execution_count": 71,
   "id": "f93f37ba",
   "metadata": {},
   "outputs": [],
   "source": [
    "'babson'.isalpha() "
   ]
  },
  {
   "cell_type": "code",
   "execution_count": 72,
   "id": "31764470",
   "metadata": {},
   "outputs": [],
   "source": [
    "help(str.isalpha)"
   ]
  },
  {
   "cell_type": "code",
   "execution_count": 73,
   "id": "0a113e0d",
   "metadata": {},
   "outputs": [],
   "source": [
    "'babson123'.isalphnumeric()"
   ]
  },
  {
   "cell_type": "code",
   "execution_count": 74,
   "id": "595e6564",
   "metadata": {},
   "outputs": [],
   "source": [
    "'babson123'.isalphanumeric()"
   ]
  },
  {
   "cell_type": "code",
   "execution_count": 75,
   "id": "9f1624ed",
   "metadata": {},
   "outputs": [],
   "source": [
    "'babson123'.isalnum()"
   ]
  },
  {
   "cell_type": "code",
   "execution_count": 76,
   "id": "b04f4564",
   "metadata": {},
   "outputs": [],
   "source": [
    "'123@babson.edu'.isalnum()"
   ]
  },
  {
   "cell_type": "code",
   "execution_count": 77,
   "id": "89247842",
   "metadata": {},
   "outputs": [],
   "source": [
    "s = 'hello\\n'"
   ]
  },
  {
   "cell_type": "code",
   "execution_count": 78,
   "id": "ed366c57",
   "metadata": {},
   "outputs": [],
   "source": [
    "len(s)"
   ]
  },
  {
   "cell_type": "code",
   "execution_count": 79,
   "id": "f6ee1256",
   "metadata": {},
   "outputs": [],
   "source": [
    "print(s)"
   ]
  },
  {
   "cell_type": "code",
   "execution_count": 80,
   "id": "3956ff98",
   "metadata": {},
   "outputs": [],
   "source": [
    "s"
   ]
  },
  {
   "cell_type": "code",
   "execution_count": 81,
   "id": "578fa414",
   "metadata": {},
   "outputs": [],
   "source": [
    "s.strip()"
   ]
  },
  {
   "cell_type": "code",
   "execution_count": 82,
   "id": "46143bae",
   "metadata": {},
   "outputs": [],
   "source": [
    "s = '     helllo    '"
   ]
  },
  {
   "cell_type": "code",
   "execution_count": 83,
   "id": "21aee1ed",
   "metadata": {},
   "outputs": [],
   "source": [
    "s.stirp()"
   ]
  },
  {
   "cell_type": "code",
   "execution_count": 84,
   "id": "e6763821",
   "metadata": {},
   "outputs": [],
   "source": [
    "s"
   ]
  },
  {
   "cell_type": "code",
   "execution_count": 85,
   "id": "6b717d51",
   "metadata": {},
   "outputs": [],
   "source": [
    "s.strip()"
   ]
  },
  {
   "cell_type": "code",
   "execution_count": 86,
   "id": "7df393eb",
   "metadata": {},
   "outputs": [],
   "source": [
    "s.leftstrip()"
   ]
  },
  {
   "cell_type": "code",
   "execution_count": 87,
   "id": "f8fb208c",
   "metadata": {},
   "outputs": [],
   "source": [
    "s"
   ]
  },
  {
   "cell_type": "code",
   "execution_count": 88,
   "id": "7de4f7ff",
   "metadata": {},
   "outputs": [],
   "source": [
    "s.lstrip()"
   ]
  },
  {
   "cell_type": "code",
   "execution_count": 89,
   "id": "b06dd269",
   "metadata": {},
   "outputs": [],
   "source": [
    "s.rstrip()"
   ]
  },
  {
   "cell_type": "code",
   "execution_count": 90,
   "id": "76c43e20",
   "metadata": {},
   "outputs": [],
   "source": [
    "s = 'tauria tarynea tamanna sofia'"
   ]
  },
  {
   "cell_type": "code",
   "execution_count": 91,
   "id": "cfa5516e",
   "metadata": {},
   "outputs": [],
   "source": [
    "s.split() "
   ]
  },
  {
   "cell_type": "code",
   "execution_count": 92,
   "id": "6e7b7806",
   "metadata": {},
   "outputs": [],
   "source": [
    "paragraph = 'sfdsfds. dsfsfsdfs. sfdsfdgasgdsaf. gdsgsfdf.'"
   ]
  },
  {
   "cell_type": "code",
   "execution_count": 93,
   "id": "eb426c69",
   "metadata": {},
   "outputs": [],
   "source": [
    "paragraph.split('.')"
   ]
  },
  {
   "cell_type": "code",
   "execution_count": 94,
   "id": "b1328db8",
   "metadata": {},
   "outputs": [],
   "source": [
    "# tokenization"
   ]
  },
  {
   "cell_type": "code",
   "execution_count": 95,
   "id": "45061390",
   "metadata": {},
   "outputs": [],
   "source": [
    "help(str.isupper)"
   ]
  },
  {
   "cell_type": "code",
   "execution_count": 96,
   "id": "78f64fc1",
   "metadata": {},
   "outputs": [],
   "source": [
    "s = 'Babson'"
   ]
  },
  {
   "cell_type": "code",
   "execution_count": 97,
   "id": "c9107a09",
   "metadata": {},
   "outputs": [],
   "source": [
    "(1/2) ** 24"
   ]
  },
  {
   "cell_type": "code",
   "execution_count": 98,
   "id": "5cacea87",
   "metadata": {},
   "outputs": [],
   "source": [
    "name"
   ]
  },
  {
   "cell_type": "code",
   "execution_count": 99,
   "id": "d1612766",
   "metadata": {},
   "outputs": [],
   "source": [
    "team"
   ]
  },
  {
   "cell_type": "code",
   "execution_count": 100,
   "id": "91812a5b",
   "metadata": {},
   "outputs": [],
   "source": [
    "s = 'tauria tarynea tamanna sofia'"
   ]
  },
  {
   "cell_type": "code",
   "execution_count": 101,
   "id": "f3b49300",
   "metadata": {},
   "outputs": [],
   "source": [
    "names = s.split() "
   ]
  },
  {
   "cell_type": "code",
   "execution_count": 102,
   "id": "00e2cd3a",
   "metadata": {},
   "outputs": [],
   "source": [
    "names"
   ]
  },
  {
   "cell_type": "code",
   "execution_count": 103,
   "id": "7c58a6bd",
   "metadata": {},
   "outputs": [],
   "source": [
    "type(names)"
   ]
  },
  {
   "cell_type": "code",
   "execution_count": 104,
   "id": "be67b448",
   "metadata": {},
   "outputs": [],
   "source": [
    "teams = ['red sox', 'white sox', 'yankees', 'mets'] "
   ]
  },
  {
   "cell_type": "code",
   "execution_count": 105,
   "id": "71943fcf",
   "metadata": {},
   "outputs": [],
   "source": [
    "names"
   ]
  },
  {
   "cell_type": "code",
   "execution_count": 106,
   "id": "f6a3a7e6",
   "metadata": {},
   "outputs": [],
   "source": [
    "len(names) "
   ]
  },
  {
   "cell_type": "code",
   "execution_count": 107,
   "id": "382af702",
   "metadata": {},
   "outputs": [],
   "source": [
    "nums = [4, 18, 59, 2025, 10, 6]"
   ]
  },
  {
   "cell_type": "code",
   "execution_count": 108,
   "id": "1213b5c0",
   "metadata": {},
   "outputs": [],
   "source": [
    "len(nums) "
   ]
  },
  {
   "cell_type": "code",
   "execution_count": 109,
   "id": "0ff0fa5d",
   "metadata": {},
   "outputs": [],
   "source": [
    "lst = [2025, 'python', 4.19, names]"
   ]
  },
  {
   "cell_type": "code",
   "execution_count": 110,
   "id": "885e9405",
   "metadata": {},
   "outputs": [],
   "source": [
    "lst"
   ]
  },
  {
   "cell_type": "code",
   "execution_count": 111,
   "id": "59e3654d",
   "metadata": {},
   "outputs": [],
   "source": [
    "len(lst) "
   ]
  },
  {
   "cell_type": "code",
   "execution_count": 112,
   "id": "a8190ed3",
   "metadata": {},
   "outputs": [],
   "source": [
    "names"
   ]
  },
  {
   "cell_type": "code",
   "execution_count": 113,
   "id": "93608b03",
   "metadata": {},
   "outputs": [],
   "source": [
    "names[0] "
   ]
  },
  {
   "cell_type": "code",
   "execution_count": 114,
   "id": "baffb58e",
   "metadata": {},
   "outputs": [],
   "source": [
    "names[-1] "
   ]
  },
  {
   "cell_type": "code",
   "execution_count": 115,
   "id": "adb6c23f",
   "metadata": {},
   "outputs": [],
   "source": [
    "names[1:3] "
   ]
  },
  {
   "cell_type": "code",
   "execution_count": 116,
   "id": "539a2657",
   "metadata": {},
   "outputs": [],
   "source": [
    "# slicing"
   ]
  },
  {
   "cell_type": "code",
   "execution_count": 117,
   "id": "8440d1c9",
   "metadata": {},
   "outputs": [],
   "source": [
    "names_1 = names[1:3]"
   ]
  },
  {
   "cell_type": "code",
   "execution_count": 118,
   "id": "394aaf64",
   "metadata": {},
   "outputs": [],
   "source": [
    "names_1"
   ]
  },
  {
   "cell_type": "code",
   "execution_count": 119,
   "id": "d969b875",
   "metadata": {},
   "outputs": [],
   "source": [
    "names_1[0]"
   ]
  },
  {
   "cell_type": "code",
   "execution_count": 120,
   "id": "6c2f079b",
   "metadata": {},
   "outputs": [],
   "source": [
    "names "
   ]
  },
  {
   "cell_type": "code",
   "execution_count": 121,
   "id": "35e5eab7",
   "metadata": {},
   "outputs": [],
   "source": [
    "names_2 = names"
   ]
  },
  {
   "cell_type": "code",
   "execution_count": 122,
   "id": "a72099e8",
   "metadata": {},
   "outputs": [],
   "source": [
    "# lists are mutable"
   ]
  },
  {
   "cell_type": "code",
   "execution_count": 123,
   "id": "a21669dd",
   "metadata": {},
   "outputs": [],
   "source": [
    "names[0] = 'Diego'"
   ]
  },
  {
   "cell_type": "code",
   "execution_count": 124,
   "id": "dd152435",
   "metadata": {},
   "outputs": [],
   "source": [
    "names"
   ]
  },
  {
   "cell_type": "code",
   "execution_count": 125,
   "id": "70803238",
   "metadata": {},
   "outputs": [],
   "source": [
    "names_2"
   ]
  },
  {
   "cell_type": "code",
   "execution_count": 126,
   "id": "a5ef0a60",
   "metadata": {},
   "outputs": [],
   "source": [
    "a = 10"
   ]
  },
  {
   "cell_type": "code",
   "execution_count": 127,
   "id": "31c3054e",
   "metadata": {},
   "outputs": [],
   "source": [
    "b = a"
   ]
  },
  {
   "cell_type": "code",
   "execution_count": 128,
   "id": "16f1197c",
   "metadata": {},
   "outputs": [],
   "source": [
    "a = 'abc'"
   ]
  },
  {
   "cell_type": "code",
   "execution_count": 129,
   "id": "e495c5bc",
   "metadata": {},
   "outputs": [],
   "source": [
    "b"
   ]
  },
  {
   "cell_type": "code",
   "execution_count": 130,
   "id": "92e368a2",
   "metadata": {},
   "outputs": [],
   "source": [
    "a = 10"
   ]
  },
  {
   "cell_type": "code",
   "execution_count": 131,
   "id": "f4a4656f",
   "metadata": {},
   "outputs": [],
   "source": [
    "b = a"
   ]
  },
  {
   "cell_type": "code",
   "execution_count": 132,
   "id": "a2756bfb",
   "metadata": {},
   "outputs": [],
   "source": [
    "id(a)"
   ]
  },
  {
   "cell_type": "code",
   "execution_count": 133,
   "id": "98070d73",
   "metadata": {},
   "outputs": [],
   "source": [
    "id(b)"
   ]
  },
  {
   "cell_type": "code",
   "execution_count": 134,
   "id": "d255d7a1",
   "metadata": {},
   "outputs": [],
   "source": [
    "a = 'abc'"
   ]
  },
  {
   "cell_type": "code",
   "execution_count": 135,
   "id": "104d13b5",
   "metadata": {},
   "outputs": [],
   "source": [
    "id(a) "
   ]
  },
  {
   "cell_type": "code",
   "execution_count": 136,
   "id": "f8be0e40",
   "metadata": {},
   "outputs": [],
   "source": [
    "id(b)"
   ]
  },
  {
   "cell_type": "code",
   "execution_count": 137,
   "id": "db4c69f2",
   "metadata": {},
   "outputs": [],
   "source": [
    "a = [1, 2, 3]"
   ]
  },
  {
   "cell_type": "code",
   "execution_count": 138,
   "id": "2f8e95f8",
   "metadata": {},
   "outputs": [],
   "source": [
    "b = a"
   ]
  },
  {
   "cell_type": "code",
   "execution_count": 139,
   "id": "f7ffa506",
   "metadata": {},
   "outputs": [],
   "source": [
    "id(a), id(b)"
   ]
  },
  {
   "cell_type": "code",
   "execution_count": 140,
   "id": "f46ac8fa",
   "metadata": {},
   "outputs": [],
   "source": [
    "a[0] = 100"
   ]
  },
  {
   "cell_type": "code",
   "execution_count": 141,
   "id": "e03ae62e",
   "metadata": {},
   "outputs": [],
   "source": [
    "a"
   ]
  },
  {
   "cell_type": "code",
   "execution_count": 142,
   "id": "b9ecd1af",
   "metadata": {},
   "outputs": [],
   "source": [
    "id(a), id(b) "
   ]
  },
  {
   "cell_type": "code",
   "execution_count": 143,
   "id": "dee489a3",
   "metadata": {},
   "outputs": [],
   "source": [
    "b"
   ]
  },
  {
   "cell_type": "code",
   "execution_count": 144,
   "id": "96902b33",
   "metadata": {},
   "outputs": [],
   "source": [
    "a"
   ]
  },
  {
   "cell_type": "code",
   "execution_count": 145,
   "id": "903f18f6",
   "metadata": {},
   "outputs": [],
   "source": [
    "names"
   ]
  },
  {
   "cell_type": "code",
   "execution_count": 146,
   "id": "6fe96c97",
   "metadata": {},
   "outputs": [],
   "source": [
    "names.append('russel')"
   ]
  },
  {
   "cell_type": "code",
   "execution_count": 147,
   "id": "8ec3de80",
   "metadata": {},
   "outputs": [],
   "source": [
    "names"
   ]
  },
  {
   "cell_type": "code",
   "execution_count": 148,
   "id": "dbccc4e8",
   "metadata": {},
   "outputs": [],
   "source": [
    "help(list.insert)"
   ]
  },
  {
   "cell_type": "code",
   "execution_count": 149,
   "id": "83a8a23a",
   "metadata": {},
   "outputs": [],
   "source": [
    "names.insert(1, 'bertrand')"
   ]
  },
  {
   "cell_type": "code",
   "execution_count": 150,
   "id": "4fb6527c",
   "metadata": {},
   "outputs": [],
   "source": [
    "names"
   ]
  }
 ],
 "metadata": {
  "language_info": {
   "name": "python"
  }
 },
 "nbformat": 4,
 "nbformat_minor": 5
}
